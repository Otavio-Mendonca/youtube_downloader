{
  "nbformat": 4,
  "nbformat_minor": 0,
  "metadata": {
    "colab": {
      "name": "youtube_downloader.ipynb",
      "provenance": [],
      "authorship_tag": "ABX9TyPl3m8JfBq/K/bmkJR8WNT+",
      "include_colab_link": true
    },
    "kernelspec": {
      "name": "python3",
      "display_name": "Python 3"
    },
    "language_info": {
      "name": "python"
    }
  },
  "cells": [
    {
      "cell_type": "markdown",
      "metadata": {
        "id": "view-in-github",
        "colab_type": "text"
      },
      "source": [
        "<a href=\"https://colab.research.google.com/github/Otavio-Mendonca/youtube_downloader/blob/main/youtube_downloader.ipynb\" target=\"_parent\"><img src=\"https://colab.research.google.com/assets/colab-badge.svg\" alt=\"Open In Colab\"/></a>"
      ]
    },
    {
      "cell_type": "code",
      "execution_count": 4,
      "metadata": {
        "colab": {
          "base_uri": "https://localhost:8080/"
        },
        "id": "8F0bPxoCUbbd",
        "outputId": "5e0d8815-67b0-4bba-8c2f-3ceef35b110e"
      },
      "outputs": [
        {
          "output_type": "stream",
          "name": "stdout",
          "text": [
            "Requirement already satisfied: pytube in /usr/local/lib/python3.7/dist-packages (12.0.0)\n",
            "Download Concluido!!!\n"
          ]
        }
      ],
      "source": [
        "!pip install pytube #instalação da biblioteca pytube\n",
        "from pytube import YouTube, streams\n",
        "\n",
        "url = 'https://www.youtube.com/watch?v=i9NOkjmBszo&ab_channel=BaguaRecords' # URL do video escolhido.\n",
        "video = YouTube(url)\n",
        "stream = video.streams.get_highest_resolution() # Comando usado para baixar o video na maior qualidade possivel\n",
        "\n",
        "stream.download(output_path='C:/Users/Unesp/Desktop') # DESTINO/PASTA onde será salvo o video\n",
        "\n",
        "print(\"Download Concluido!!!\")"
      ]
    }
  ]
}